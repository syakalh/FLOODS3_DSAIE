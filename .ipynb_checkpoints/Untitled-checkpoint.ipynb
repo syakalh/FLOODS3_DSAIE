{
 "cells": [
  {
   "cell_type": "markdown",
   "id": "4a87d932-0af7-42f4-8d84-6f28389b80e6",
   "metadata": {},
   "source": [
    "Test Notebook "
   ]
  },
  {
   "cell_type": "code",
   "execution_count": null,
   "id": "52beac30-b786-4caf-89fa-a02d0ff59955",
   "metadata": {},
   "outputs": [],
   "source": []
  }
 ],
 "metadata": {
  "kernelspec": {
   "display_name": "Python 3 (ipykernel)",
   "language": "python",
   "name": "python3"
  },
  "language_info": {
   "codemirror_mode": {
    "name": "ipython",
    "version": 3
   },
   "file_extension": ".py",
   "mimetype": "text/x-python",
   "name": "python",
   "nbconvert_exporter": "python",
   "pygments_lexer": "ipython3",
   "version": "3.9.17"
  }
 },
 "nbformat": 4,
 "nbformat_minor": 5
}
