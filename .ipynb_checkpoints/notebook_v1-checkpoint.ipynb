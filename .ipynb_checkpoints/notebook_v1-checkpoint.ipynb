{
 "cells": [
  {
   "cell_type": "markdown",
   "id": "007f7c7f-059a-455a-b555-1c13fa21139a",
   "metadata": {},
   "source": [
    "Hi! Can I commit to the repository? "
   ]
  },
  {
   "cell_type": "code",
   "execution_count": null,
   "id": "4cd437bb-4f6b-46fa-9103-8de5a486278f",
   "metadata": {},
   "outputs": [],
   "source": []
  }
 ],
 "metadata": {
  "kernelspec": {
   "display_name": "Python 3 (ipykernel)",
   "language": "python",
   "name": "python3"
  },
  "language_info": {
   "codemirror_mode": {
    "name": "ipython",
    "version": 3
   },
   "file_extension": ".py",
   "mimetype": "text/x-python",
   "name": "python",
   "nbconvert_exporter": "python",
   "pygments_lexer": "ipython3",
   "version": "3.11.5"
  }
 },
 "nbformat": 4,
 "nbformat_minor": 5
}
